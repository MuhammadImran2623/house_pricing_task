{
 "cells": [
  {
   "cell_type": "code",
   "execution_count": 408,
   "id": "d1f19128-451c-49b3-98da-131a8bad7d86",
   "metadata": {},
   "outputs": [],
   "source": [
    "import pandas as pd\n",
    "import numpy as np\n",
    "import seaborn as sns\n",
    "import matplotlib.pyplot as plt"
   ]
  },
  {
   "cell_type": "code",
   "execution_count": 409,
   "id": "6dd7744e-85fd-494d-85c3-a3c105282665",
   "metadata": {},
   "outputs": [
    {
     "data": {
      "text/html": [
       "<div>\n",
       "<style scoped>\n",
       "    .dataframe tbody tr th:only-of-type {\n",
       "        vertical-align: middle;\n",
       "    }\n",
       "\n",
       "    .dataframe tbody tr th {\n",
       "        vertical-align: top;\n",
       "    }\n",
       "\n",
       "    .dataframe thead th {\n",
       "        text-align: right;\n",
       "    }\n",
       "</style>\n",
       "<table border=\"1\" class=\"dataframe\">\n",
       "  <thead>\n",
       "    <tr style=\"text-align: right;\">\n",
       "      <th></th>\n",
       "      <th>longitude</th>\n",
       "      <th>latitude</th>\n",
       "      <th>housing_median_age</th>\n",
       "      <th>total_rooms</th>\n",
       "      <th>total_bedrooms</th>\n",
       "      <th>population</th>\n",
       "      <th>households</th>\n",
       "      <th>median_income</th>\n",
       "      <th>median_house_value</th>\n",
       "      <th>ocean_proximity</th>\n",
       "    </tr>\n",
       "  </thead>\n",
       "  <tbody>\n",
       "    <tr>\n",
       "      <th>0</th>\n",
       "      <td>-122.23</td>\n",
       "      <td>37.88</td>\n",
       "      <td>41.0</td>\n",
       "      <td>880.0</td>\n",
       "      <td>129.0</td>\n",
       "      <td>322.0</td>\n",
       "      <td>126.0</td>\n",
       "      <td>8.3252</td>\n",
       "      <td>452600.0</td>\n",
       "      <td>NEAR BAY</td>\n",
       "    </tr>\n",
       "    <tr>\n",
       "      <th>1</th>\n",
       "      <td>-122.22</td>\n",
       "      <td>37.86</td>\n",
       "      <td>21.0</td>\n",
       "      <td>7099.0</td>\n",
       "      <td>1106.0</td>\n",
       "      <td>2401.0</td>\n",
       "      <td>1138.0</td>\n",
       "      <td>8.3014</td>\n",
       "      <td>358500.0</td>\n",
       "      <td>NEAR BAY</td>\n",
       "    </tr>\n",
       "    <tr>\n",
       "      <th>2</th>\n",
       "      <td>-122.24</td>\n",
       "      <td>37.85</td>\n",
       "      <td>52.0</td>\n",
       "      <td>1467.0</td>\n",
       "      <td>190.0</td>\n",
       "      <td>496.0</td>\n",
       "      <td>177.0</td>\n",
       "      <td>7.2574</td>\n",
       "      <td>352100.0</td>\n",
       "      <td>NEAR BAY</td>\n",
       "    </tr>\n",
       "    <tr>\n",
       "      <th>3</th>\n",
       "      <td>-122.25</td>\n",
       "      <td>37.85</td>\n",
       "      <td>52.0</td>\n",
       "      <td>1274.0</td>\n",
       "      <td>235.0</td>\n",
       "      <td>558.0</td>\n",
       "      <td>219.0</td>\n",
       "      <td>5.6431</td>\n",
       "      <td>341300.0</td>\n",
       "      <td>NEAR BAY</td>\n",
       "    </tr>\n",
       "    <tr>\n",
       "      <th>4</th>\n",
       "      <td>-122.25</td>\n",
       "      <td>37.85</td>\n",
       "      <td>52.0</td>\n",
       "      <td>1627.0</td>\n",
       "      <td>280.0</td>\n",
       "      <td>565.0</td>\n",
       "      <td>259.0</td>\n",
       "      <td>3.8462</td>\n",
       "      <td>342200.0</td>\n",
       "      <td>NEAR BAY</td>\n",
       "    </tr>\n",
       "  </tbody>\n",
       "</table>\n",
       "</div>"
      ],
      "text/plain": [
       "   longitude  latitude  housing_median_age  total_rooms  total_bedrooms  \\\n",
       "0    -122.23     37.88                41.0        880.0           129.0   \n",
       "1    -122.22     37.86                21.0       7099.0          1106.0   \n",
       "2    -122.24     37.85                52.0       1467.0           190.0   \n",
       "3    -122.25     37.85                52.0       1274.0           235.0   \n",
       "4    -122.25     37.85                52.0       1627.0           280.0   \n",
       "\n",
       "   population  households  median_income  median_house_value ocean_proximity  \n",
       "0       322.0       126.0         8.3252            452600.0        NEAR BAY  \n",
       "1      2401.0      1138.0         8.3014            358500.0        NEAR BAY  \n",
       "2       496.0       177.0         7.2574            352100.0        NEAR BAY  \n",
       "3       558.0       219.0         5.6431            341300.0        NEAR BAY  \n",
       "4       565.0       259.0         3.8462            342200.0        NEAR BAY  "
      ]
     },
     "execution_count": 409,
     "metadata": {},
     "output_type": "execute_result"
    }
   ],
   "source": [
    "df = pd.read_csv('C:\\\\Users\\\\mufas\\\\Downloads\\\\housing.csv')\n",
    "df.head()"
   ]
  },
  {
   "cell_type": "code",
   "execution_count": 410,
   "id": "48b920c0-2814-4577-8889-cebac81525a7",
   "metadata": {},
   "outputs": [
    {
     "data": {
      "text/plain": [
       "longitude             0\n",
       "latitude              0\n",
       "housing_median_age    0\n",
       "total_rooms           0\n",
       "total_bedrooms        0\n",
       "population            0\n",
       "households            0\n",
       "median_income         0\n",
       "median_house_value    0\n",
       "ocean_proximity       0\n",
       "dtype: int64"
      ]
     },
     "execution_count": 410,
     "metadata": {},
     "output_type": "execute_result"
    }
   ],
   "source": [
    "(df == 0).sum()"
   ]
  },
  {
   "cell_type": "code",
   "execution_count": null,
   "id": "07474485-433e-4beb-9d2c-3b8f6412450d",
   "metadata": {},
   "outputs": [],
   "source": []
  },
  {
   "cell_type": "code",
   "execution_count": 411,
   "id": "cf1312a6-6827-45d1-a6c3-7af72573d401",
   "metadata": {},
   "outputs": [
    {
     "data": {
      "text/plain": [
       "(20640, 10)"
      ]
     },
     "execution_count": 411,
     "metadata": {},
     "output_type": "execute_result"
    }
   ],
   "source": [
    "df.shape"
   ]
  },
  {
   "cell_type": "code",
   "execution_count": 412,
   "id": "201cb880-7f39-4712-8f3e-80db9de4a1e4",
   "metadata": {},
   "outputs": [
    {
     "data": {
      "text/plain": [
       "longitude             float64\n",
       "latitude              float64\n",
       "housing_median_age    float64\n",
       "total_rooms           float64\n",
       "total_bedrooms        float64\n",
       "population            float64\n",
       "households            float64\n",
       "median_income         float64\n",
       "median_house_value    float64\n",
       "ocean_proximity        object\n",
       "dtype: object"
      ]
     },
     "execution_count": 412,
     "metadata": {},
     "output_type": "execute_result"
    }
   ],
   "source": [
    "df.dtypes"
   ]
  },
  {
   "cell_type": "code",
   "execution_count": 413,
   "id": "19b960b7-1e76-419d-9a44-4be52c725aaa",
   "metadata": {},
   "outputs": [
    {
     "name": "stdout",
     "output_type": "stream",
     "text": [
      "<class 'pandas.core.frame.DataFrame'>\n",
      "RangeIndex: 20640 entries, 0 to 20639\n",
      "Data columns (total 10 columns):\n",
      " #   Column              Non-Null Count  Dtype  \n",
      "---  ------              --------------  -----  \n",
      " 0   longitude           20640 non-null  float64\n",
      " 1   latitude            20640 non-null  float64\n",
      " 2   housing_median_age  20640 non-null  float64\n",
      " 3   total_rooms         20640 non-null  float64\n",
      " 4   total_bedrooms      20433 non-null  float64\n",
      " 5   population          20640 non-null  float64\n",
      " 6   households          20640 non-null  float64\n",
      " 7   median_income       20640 non-null  float64\n",
      " 8   median_house_value  20640 non-null  float64\n",
      " 9   ocean_proximity     20640 non-null  object \n",
      "dtypes: float64(9), object(1)\n",
      "memory usage: 1.6+ MB\n"
     ]
    }
   ],
   "source": [
    "df.info()"
   ]
  },
  {
   "cell_type": "code",
   "execution_count": 414,
   "id": "73f7c00e-2333-4452-be6c-d1f15011c4eb",
   "metadata": {},
   "outputs": [
    {
     "data": {
      "text/plain": [
       "longitude               0\n",
       "latitude                0\n",
       "housing_median_age      0\n",
       "total_rooms             0\n",
       "total_bedrooms        207\n",
       "population              0\n",
       "households              0\n",
       "median_income           0\n",
       "median_house_value      0\n",
       "ocean_proximity         0\n",
       "dtype: int64"
      ]
     },
     "execution_count": 414,
     "metadata": {},
     "output_type": "execute_result"
    }
   ],
   "source": [
    "# Here we can see only few Null values  \n",
    "df.isnull().sum()"
   ]
  },
  {
   "cell_type": "code",
   "execution_count": 415,
   "id": "2ce40f6b-1c3d-42e4-9a7c-6a09ca74c16c",
   "metadata": {},
   "outputs": [
    {
     "data": {
      "text/plain": [
       "0"
      ]
     },
     "execution_count": 415,
     "metadata": {},
     "output_type": "execute_result"
    }
   ],
   "source": [
    "df.duplicated().sum()"
   ]
  },
  {
   "cell_type": "markdown",
   "id": "d5076dfb-b0b6-445a-9eab-88bd83cd4ee8",
   "metadata": {},
   "source": [
    "# There is no duplicate values in the dataset"
   ]
  },
  {
   "cell_type": "code",
   "execution_count": 416,
   "id": "142eb279-0f18-424c-94df-024792a19c83",
   "metadata": {},
   "outputs": [
    {
     "data": {
      "text/plain": [
       "total_rooms\n",
       "1527.0     18\n",
       "1582.0     17\n",
       "1613.0     17\n",
       "2127.0     16\n",
       "1717.0     15\n",
       "           ..\n",
       "7478.0      1\n",
       "8207.0      1\n",
       "21533.0     1\n",
       "17032.0     1\n",
       "10035.0     1\n",
       "Name: count, Length: 5926, dtype: int64"
      ]
     },
     "execution_count": 416,
     "metadata": {},
     "output_type": "execute_result"
    }
   ],
   "source": [
    "df.total_rooms.value_counts()"
   ]
  },
  {
   "cell_type": "code",
   "execution_count": 417,
   "id": "af768c40-dd3d-4235-8373-d2397472fc9e",
   "metadata": {},
   "outputs": [
    {
     "data": {
      "text/plain": [
       "population\n",
       "891.0      25\n",
       "761.0      24\n",
       "850.0      24\n",
       "1052.0     24\n",
       "1227.0     24\n",
       "           ..\n",
       "3563.0      1\n",
       "2878.0      1\n",
       "10323.0     1\n",
       "5217.0      1\n",
       "6912.0      1\n",
       "Name: count, Length: 3888, dtype: int64"
      ]
     },
     "execution_count": 417,
     "metadata": {},
     "output_type": "execute_result"
    }
   ],
   "source": [
    "df.population.value_counts()"
   ]
  },
  {
   "cell_type": "code",
   "execution_count": null,
   "id": "af5b9a8e-cf21-428c-b0f6-f2bce630c439",
   "metadata": {},
   "outputs": [],
   "source": []
  },
  {
   "cell_type": "markdown",
   "id": "0c6c0bb1-e0e7-48f9-8cf6-aff6f5039b1b",
   "metadata": {},
   "source": [
    "# Now we will check the outliers part in the dataset"
   ]
  },
  {
   "cell_type": "code",
   "execution_count": 418,
   "id": "5ff972b8-3689-4673-a477-43beb49b6204",
   "metadata": {},
   "outputs": [
    {
     "data": {
      "image/png": "[encoded data removed]",
      "text/plain": [
       "<Figure size 1500x800 with 1 Axes>"
      ]
     },
     "metadata": {},
     "output_type": "display_data"
    }
   ],
   "source": [
    "# Create a box plot for each numerical column in the DataFrame\n",
    "plt.figure(figsize=(15, 8))\n",
    "sns.boxplot(data=df, orient='v', palette='Set2')\n",
    "plt.title('Box plots for Numerical Columns with Outliers')\n",
    "plt.show()"
   ]
  },
  {
   "cell_type": "code",
   "execution_count": 419,
   "id": "b85e4cb4-0e1e-41b1-9cca-3228cbde3753",
   "metadata": {},
   "outputs": [
    {
     "data": {
      "text/plain": [
       "<Axes: xlabel='total_rooms'>"
      ]
     },
     "execution_count": 419,
     "metadata": {},
     "output_type": "execute_result"
    },
    {
     "data": {
      "image/png": "[encoded data removed]",
      "text/plain": [
       "<Figure size 1000x400 with 1 Axes>"
      ]
     },
     "metadata": {},
     "output_type": "display_data"
    }
   ],
   "source": [
    "plt.figure(figsize=(10, 4))\n",
    "sns.boxplot(x=df.total_rooms)"
   ]
  },
  {
   "cell_type": "code",
   "execution_count": 420,
   "id": "4dd2ec08-378d-41b9-9d35-c7a4053e7b35",
   "metadata": {},
   "outputs": [
    {
     "data": {
      "text/plain": [
       "<Axes: xlabel='total_rooms'>"
      ]
     },
     "execution_count": 420,
     "metadata": {},
     "output_type": "execute_result"
    },
    {
     "data": {
      "image/png": "[encoded data removed]",
      "text/plain": [
       "<Figure size 1000x400 with 1 Axes>"
      ]
     },
     "metadata": {},
     "output_type": "display_data"
    }
   ],
   "source": [
    "plt.figure(figsize=(10, 4))\n",
    "sns.boxplot(x=filtered_df.total_rooms)"
   ]
  },
  {
   "cell_type": "code",
   "execution_count": 421,
   "id": "3a78921d-79fc-431b-9ab5-06911980a630",
   "metadata": {},
   "outputs": [
    {
     "data": {
      "image/png": "[encoded data removed]",
      "text/plain": [
       "<Figure size 1000x400 with 1 Axes>"
      ]
     },
     "metadata": {},
     "output_type": "display_data"
    }
   ],
   "source": [
    "plt.figure(figsize=(10, 4))\n",
    "sns.boxplot(x=df.total_bedrooms)\n",
    "plt.show()"
   ]
  },
  {
   "cell_type": "code",
   "execution_count": 422,
   "id": "bfb228bb-b1a6-4568-93a7-8e8775ac52df",
   "metadata": {},
   "outputs": [
    {
     "data": {
      "text/plain": [
       "<Axes: xlabel='population'>"
      ]
     },
     "execution_count": 422,
     "metadata": {},
     "output_type": "execute_result"
    },
    {
     "data": {
      "image/png": "[encoded data removed]",
      "text/plain": [
       "<Figure size 1000x400 with 1 Axes>"
      ]
     },
     "metadata": {},
     "output_type": "display_data"
    }
   ],
   "source": [
    "plt.figure(figsize=(10, 4))\n",
    "sns.boxplot(x=df.population)"
   ]
  },
  {
   "cell_type": "code",
   "execution_count": 423,
   "id": "3936ba83-7989-4020-9c59-33c859d4d5b4",
   "metadata": {},
   "outputs": [
    {
     "data": {
      "text/plain": [
       "<Axes: xlabel='households'>"
      ]
     },
     "execution_count": 423,
     "metadata": {},
     "output_type": "execute_result"
    },
    {
     "data": {
      "image/png": "[encoded data removed]",
      "text/plain": [
       "<Figure size 1000x400 with 1 Axes>"
      ]
     },
     "metadata": {},
     "output_type": "display_data"
    }
   ],
   "source": [
    "plt.figure(figsize=(10, 4))\n",
    "sns.boxplot(x=df.households)"
   ]
  },
  {
   "cell_type": "code",
   "execution_count": 424,
   "id": "d28df7fd-de01-441a-86af-152ad4b65022",
   "metadata": {},
   "outputs": [
    {
     "data": {
      "text/plain": [
       "<Axes: xlabel='median_house_value'>"
      ]
     },
     "execution_count": 424,
     "metadata": {},
     "output_type": "execute_result"
    },
    {
     "data": {
      "image/png": "[encoded data removed]",
      "text/plain": [
       "<Figure size 1000x400 with 1 Axes>"
      ]
     },
     "metadata": {},
     "output_type": "display_data"
    }
   ],
   "source": [
    "plt.figure(figsize=(10, 4))\n",
    "sns.boxplot(x=df.median_house_value)"
   ]
  },
  {
   "cell_type": "markdown",
   "id": "7705ed00-c807-4082-8278-2d88f84895b9",
   "metadata": {},
   "source": [
    "## There seems to be Huge range of Outliers in the dataset in some of the columns we will remove some outliers which will effect  our dataset for not become a nosiy data for our model"
   ]
  },
  {
   "cell_type": "markdown",
   "id": "740152e2-6544-47c9-9995-56efdde0d398",
   "metadata": {},
   "source": [
    "## Here we are useing IQR method for the removal of Outliers"
   ]
  },
  {
   "cell_type": "code",
   "execution_count": 425,
   "id": "760c7298-1cef-49ef-b98e-6950eff50b3e",
   "metadata": {},
   "outputs": [
    {
     "name": "stdout",
     "output_type": "stream",
     "text": [
      "1447.75 3148.0\n"
     ]
    },
    {
     "name": "stderr",
     "output_type": "stream",
     "text": [
      "C:\\Users\\mufas\\AppData\\Local\\Temp\\ipykernel_16388\\1850673050.py:1: FutureWarning: Series.__getitem__ treating keys as positions is deprecated. In a future version, integer keys will always be treated as labels (consistent with DataFrame behavior). To access a value by position, use `ser.iloc[pos]`\n",
      "  Q1 = df['total_rooms'].describe()[4]\n",
      "C:\\Users\\mufas\\AppData\\Local\\Temp\\ipykernel_16388\\1850673050.py:2: FutureWarning: Series.__getitem__ treating keys as positions is deprecated. In a future version, integer keys will always be treated as labels (consistent with DataFrame behavior). To access a value by position, use `ser.iloc[pos]`\n",
      "  Q3 = df['total_rooms'].describe()[6]\n"
     ]
    }
   ],
   "source": [
    "Q1 = df['total_rooms'].describe()[4]\n",
    "Q3 = df['total_rooms'].describe()[6]\n",
    "\n",
    "print(Q1,Q3)"
   ]
  },
  {
   "cell_type": "code",
   "execution_count": 426,
   "id": "7486fd0e-5410-4abb-a69c-169430364c27",
   "metadata": {},
   "outputs": [
    {
     "name": "stdout",
     "output_type": "stream",
     "text": [
      "IQR: 1700.25\n",
      "**************************************************\n",
      "Lower_Fence :-1102.625 ,  Upper_Fence :  5698.375\n"
     ]
    }
   ],
   "source": [
    "IQR = Q3 - Q1\n",
    "Lower_Fence = Q1 - 1.5* IQR\n",
    "Upper_Fence = Q3 + 1.5*IQR\n",
    "\n",
    "print(f'IQR: {IQR}')\n",
    "print('**************************************************')\n",
    "print(f'Lower_Fence :{Lower_Fence} ,  Upper_Fence :  {Upper_Fence}')"
   ]
  },
  {
   "cell_type": "code",
   "execution_count": 428,
   "id": "cbb791ae-a926-4ea0-ab7e-1b797f7a67f2",
   "metadata": {},
   "outputs": [
    {
     "data": {
      "text/html": [
       "<div>\n",
       "<style scoped>\n",
       "    .dataframe tbody tr th:only-of-type {\n",
       "        vertical-align: middle;\n",
       "    }\n",
       "\n",
       "    .dataframe tbody tr th {\n",
       "        vertical-align: top;\n",
       "    }\n",
       "\n",
       "    .dataframe thead th {\n",
       "        text-align: right;\n",
       "    }\n",
       "</style>\n",
       "<table border=\"1\" class=\"dataframe\">\n",
       "  <thead>\n",
       "    <tr style=\"text-align: right;\">\n",
       "      <th></th>\n",
       "      <th>longitude</th>\n",
       "      <th>latitude</th>\n",
       "      <th>housing_median_age</th>\n",
       "      <th>total_rooms</th>\n",
       "      <th>total_bedrooms</th>\n",
       "      <th>population</th>\n",
       "      <th>households</th>\n",
       "      <th>median_income</th>\n",
       "      <th>median_house_value</th>\n",
       "      <th>ocean_proximity</th>\n",
       "    </tr>\n",
       "  </thead>\n",
       "  <tbody>\n",
       "    <tr>\n",
       "      <th>1</th>\n",
       "      <td>-122.22</td>\n",
       "      <td>37.86</td>\n",
       "      <td>21.0</td>\n",
       "      <td>7099.0</td>\n",
       "      <td>1106.0</td>\n",
       "      <td>2401.0</td>\n",
       "      <td>1138.0</td>\n",
       "      <td>8.3014</td>\n",
       "      <td>358500.0</td>\n",
       "      <td>NEAR BAY</td>\n",
       "    </tr>\n",
       "    <tr>\n",
       "      <th>107</th>\n",
       "      <td>-118.39</td>\n",
       "      <td>34.08</td>\n",
       "      <td>27.0</td>\n",
       "      <td>6605.0</td>\n",
       "      <td>1710.0</td>\n",
       "      <td>2665.0</td>\n",
       "      <td>1520.0</td>\n",
       "      <td>3.8088</td>\n",
       "      <td>500001.0</td>\n",
       "      <td>&lt;1H OCEAN</td>\n",
       "    </tr>\n",
       "    <tr>\n",
       "      <th>117</th>\n",
       "      <td>-117.47</td>\n",
       "      <td>34.12</td>\n",
       "      <td>6.0</td>\n",
       "      <td>10565.0</td>\n",
       "      <td>1767.0</td>\n",
       "      <td>5690.0</td>\n",
       "      <td>1555.0</td>\n",
       "      <td>4.1797</td>\n",
       "      <td>141000.0</td>\n",
       "      <td>INLAND</td>\n",
       "    </tr>\n",
       "    <tr>\n",
       "      <th>146</th>\n",
       "      <td>-122.51</td>\n",
       "      <td>38.06</td>\n",
       "      <td>24.0</td>\n",
       "      <td>9493.0</td>\n",
       "      <td>1935.0</td>\n",
       "      <td>5162.0</td>\n",
       "      <td>1880.0</td>\n",
       "      <td>3.0742</td>\n",
       "      <td>118800.0</td>\n",
       "      <td>NEAR BAY</td>\n",
       "    </tr>\n",
       "    <tr>\n",
       "      <th>149</th>\n",
       "      <td>-118.26</td>\n",
       "      <td>33.85</td>\n",
       "      <td>24.0</td>\n",
       "      <td>9071.0</td>\n",
       "      <td>1335.0</td>\n",
       "      <td>4558.0</td>\n",
       "      <td>1327.0</td>\n",
       "      <td>5.5420</td>\n",
       "      <td>197500.0</td>\n",
       "      <td>&lt;1H OCEAN</td>\n",
       "    </tr>\n",
       "    <tr>\n",
       "      <th>...</th>\n",
       "      <td>...</td>\n",
       "      <td>...</td>\n",
       "      <td>...</td>\n",
       "      <td>...</td>\n",
       "      <td>...</td>\n",
       "      <td>...</td>\n",
       "      <td>...</td>\n",
       "      <td>...</td>\n",
       "      <td>...</td>\n",
       "      <td>...</td>\n",
       "    </tr>\n",
       "    <tr>\n",
       "      <th>20543</th>\n",
       "      <td>-121.74</td>\n",
       "      <td>38.55</td>\n",
       "      <td>33.0</td>\n",
       "      <td>6861.0</td>\n",
       "      <td>1820.0</td>\n",
       "      <td>3717.0</td>\n",
       "      <td>1767.0</td>\n",
       "      <td>1.7311</td>\n",
       "      <td>182600.0</td>\n",
       "      <td>INLAND</td>\n",
       "    </tr>\n",
       "    <tr>\n",
       "      <th>20544</th>\n",
       "      <td>-121.76</td>\n",
       "      <td>38.55</td>\n",
       "      <td>23.0</td>\n",
       "      <td>8800.0</td>\n",
       "      <td>1857.0</td>\n",
       "      <td>6330.0</td>\n",
       "      <td>1832.0</td>\n",
       "      <td>2.0650</td>\n",
       "      <td>219400.0</td>\n",
       "      <td>INLAND</td>\n",
       "    </tr>\n",
       "    <tr>\n",
       "      <th>20563</th>\n",
       "      <td>-121.75</td>\n",
       "      <td>38.67</td>\n",
       "      <td>9.0</td>\n",
       "      <td>12139.0</td>\n",
       "      <td>2640.0</td>\n",
       "      <td>6837.0</td>\n",
       "      <td>2358.0</td>\n",
       "      <td>3.1250</td>\n",
       "      <td>132500.0</td>\n",
       "      <td>INLAND</td>\n",
       "    </tr>\n",
       "    <tr>\n",
       "      <th>20567</th>\n",
       "      <td>-121.79</td>\n",
       "      <td>38.66</td>\n",
       "      <td>15.0</td>\n",
       "      <td>6809.0</td>\n",
       "      <td>1052.0</td>\n",
       "      <td>3060.0</td>\n",
       "      <td>1060.0</td>\n",
       "      <td>5.3064</td>\n",
       "      <td>165000.0</td>\n",
       "      <td>INLAND</td>\n",
       "    </tr>\n",
       "    <tr>\n",
       "      <th>20629</th>\n",
       "      <td>-121.39</td>\n",
       "      <td>39.12</td>\n",
       "      <td>28.0</td>\n",
       "      <td>10035.0</td>\n",
       "      <td>1856.0</td>\n",
       "      <td>6912.0</td>\n",
       "      <td>1818.0</td>\n",
       "      <td>2.0943</td>\n",
       "      <td>108300.0</td>\n",
       "      <td>INLAND</td>\n",
       "    </tr>\n",
       "  </tbody>\n",
       "</table>\n",
       "<p>1287 rows × 10 columns</p>\n",
       "</div>"
      ],
      "text/plain": [
       "       longitude  latitude  housing_median_age  total_rooms  total_bedrooms  \\\n",
       "1        -122.22     37.86                21.0       7099.0          1106.0   \n",
       "107      -118.39     34.08                27.0       6605.0          1710.0   \n",
       "117      -117.47     34.12                 6.0      10565.0          1767.0   \n",
       "146      -122.51     38.06                24.0       9493.0          1935.0   \n",
       "149      -118.26     33.85                24.0       9071.0          1335.0   \n",
       "...          ...       ...                 ...          ...             ...   \n",
       "20543    -121.74     38.55                33.0       6861.0          1820.0   \n",
       "20544    -121.76     38.55                23.0       8800.0          1857.0   \n",
       "20563    -121.75     38.67                 9.0      12139.0          2640.0   \n",
       "20567    -121.79     38.66                15.0       6809.0          1052.0   \n",
       "20629    -121.39     39.12                28.0      10035.0          1856.0   \n",
       "\n",
       "       population  households  median_income  median_house_value  \\\n",
       "1          2401.0      1138.0         8.3014            358500.0   \n",
       "107        2665.0      1520.0         3.8088            500001.0   \n",
       "117        5690.0      1555.0         4.1797            141000.0   \n",
       "146        5162.0      1880.0         3.0742            118800.0   \n",
       "149        4558.0      1327.0         5.5420            197500.0   \n",
       "...           ...         ...            ...                 ...   \n",
       "20543      3717.0      1767.0         1.7311            182600.0   \n",
       "20544      6330.0      1832.0         2.0650            219400.0   \n",
       "20563      6837.0      2358.0         3.1250            132500.0   \n",
       "20567      3060.0      1060.0         5.3064            165000.0   \n",
       "20629      6912.0      1818.0         2.0943            108300.0   \n",
       "\n",
       "      ocean_proximity  \n",
       "1            NEAR BAY  \n",
       "107         <1H OCEAN  \n",
       "117            INLAND  \n",
       "146          NEAR BAY  \n",
       "149         <1H OCEAN  \n",
       "...               ...  \n",
       "20543          INLAND  \n",
       "20544          INLAND  \n",
       "20563          INLAND  \n",
       "20567          INLAND  \n",
       "20629          INLAND  \n",
       "\n",
       "[1287 rows x 10 columns]"
      ]
     },
     "execution_count": 428,
     "metadata": {},
     "output_type": "execute_result"
    }
   ],
   "source": [
    "df[((df['total_rooms'] < Lower_Fence) |  (df['total_rooms'] > Upper_Fence))]"
   ]
  },
  {
   "cell_type": "code",
   "execution_count": 429,
   "id": "367053c5-921e-47ba-8d3b-2e331fd79723",
   "metadata": {},
   "outputs": [],
   "source": [
    "df2 = df[~((df['total_rooms'] < Lower_Fence) |  (df['total_rooms'] > Upper_Fence))]"
   ]
  },
  {
   "cell_type": "code",
   "execution_count": 430,
   "id": "cd3c0420-ff99-4c47-b935-3a17e68c0c8a",
   "metadata": {},
   "outputs": [
    {
     "data": {
      "text/plain": [
       "(19353, 10)"
      ]
     },
     "execution_count": 430,
     "metadata": {},
     "output_type": "execute_result"
    }
   ],
   "source": [
    "df2.shape"
   ]
  },
  {
   "cell_type": "code",
   "execution_count": 431,
   "id": "b7d91025-d1d5-418c-befe-f5cff7e7887c",
   "metadata": {},
   "outputs": [],
   "source": [
    "Outliers = len(df) - len(df2)"
   ]
  },
  {
   "cell_type": "code",
   "execution_count": 432,
   "id": "37aae7a3-99a1-42f8-b398-c45cac55afd7",
   "metadata": {},
   "outputs": [
    {
     "name": "stdout",
     "output_type": "stream",
     "text": [
      "Outliers in the Dataset : 1287\n"
     ]
    }
   ],
   "source": [
    "print(f'Outliers in the Dataset : {Outliers}')"
   ]
  },
  {
   "cell_type": "code",
   "execution_count": 433,
   "id": "f77cb414-d481-49cd-9f60-c5987145cf1c",
   "metadata": {
    "scrolled": true
   },
   "outputs": [
    {
     "data": {
      "image/png": "[encoded data removed]",
      "text/plain": [
       "<Figure size 1500x800 with 1 Axes>"
      ]
     },
     "metadata": {},
     "output_type": "display_data"
    }
   ],
   "source": [
    "# Create a box plot for each numerical column in the DataFrame\n",
    "plt.figure(figsize=(15, 8))\n",
    "sns.boxplot(data=df2, orient='v', palette='Set2')\n",
    "plt.title('Box plots for Numerical Columns with Outliers')\n",
    "plt.show()"
   ]
  },
  {
   "cell_type": "code",
   "execution_count": 434,
   "id": "3adb09c3-d1f6-4ba8-acb2-b6ff6b2ffac5",
   "metadata": {},
   "outputs": [
    {
     "data": {
      "text/plain": [
       "<Axes: xlabel='total_rooms'>"
      ]
     },
     "execution_count": 434,
     "metadata": {},
     "output_type": "execute_result"
    },
    {
     "data": {
      "image/png": "[encoded data removed]",
      "text/plain": [
       "<Figure size 1000x400 with 1 Axes>"
      ]
     },
     "metadata": {},
     "output_type": "display_data"
    }
   ],
   "source": [
    "plt.figure(figsize=(10, 4))\n",
    "sns.boxplot(x=df2.total_rooms)"
   ]
  },
  {
   "cell_type": "code",
   "execution_count": 435,
   "id": "33e5dabe-371c-4dca-8027-897aaa8ba3cd",
   "metadata": {},
   "outputs": [
    {
     "data": {
      "text/plain": [
       "<Axes: xlabel='median_house_value'>"
      ]
     },
     "execution_count": 435,
     "metadata": {},
     "output_type": "execute_result"
    },
    {
     "data": {
      "image/png": "[encoded data removed]",
      "text/plain": [
       "<Figure size 1000x400 with 1 Axes>"
      ]
     },
     "metadata": {},
     "output_type": "display_data"
    }
   ],
   "source": [
    "plt.figure(figsize=(10, 4))\n",
    "sns.boxplot(x=df2.median_house_value)"
   ]
  },
  {
   "cell_type": "code",
   "execution_count": 436,
   "id": "386cdb6a-2cc0-49ff-8423-01b12cc995fe",
   "metadata": {},
   "outputs": [
    {
     "data": {
      "text/plain": [
       "longitude               0\n",
       "latitude                0\n",
       "housing_median_age      0\n",
       "total_rooms             0\n",
       "total_bedrooms        196\n",
       "population              0\n",
       "households              0\n",
       "median_income           0\n",
       "median_house_value      0\n",
       "ocean_proximity         0\n",
       "dtype: int64"
      ]
     },
     "execution_count": 436,
     "metadata": {},
     "output_type": "execute_result"
    }
   ],
   "source": [
    "df2.isnull().sum()"
   ]
  },
  {
   "cell_type": "code",
   "execution_count": 437,
   "id": "eac687e5-6396-4361-bf06-e82f39952dba",
   "metadata": {},
   "outputs": [
    {
     "data": {
      "text/plain": [
       "<Axes: xlabel='households'>"
      ]
     },
     "execution_count": 437,
     "metadata": {},
     "output_type": "execute_result"
    },
    {
     "data": {
      "image/png": "[encoded data removed]",
      "text/plain": [
       "<Figure size 1000x400 with 1 Axes>"
      ]
     },
     "metadata": {},
     "output_type": "display_data"
    }
   ],
   "source": [
    "plt.figure(figsize=(10, 4))\n",
    "sns.boxplot(x=df2.households)"
   ]
  },
  {
   "cell_type": "code",
   "execution_count": 438,
   "id": "324f362d-49a9-4685-a9f6-8002c537bd27",
   "metadata": {},
   "outputs": [
    {
     "data": {
      "text/plain": [
       "<Axes: xlabel='population'>"
      ]
     },
     "execution_count": 438,
     "metadata": {},
     "output_type": "execute_result"
    },
    {
     "data": {
      "image/png": "[encoded data removed]",
      "text/plain": [
       "<Figure size 1000x400 with 1 Axes>"
      ]
     },
     "metadata": {},
     "output_type": "display_data"
    }
   ],
   "source": [
    "plt.figure(figsize=(10, 4))\n",
    "sns.boxplot(x=df2.population)"
   ]
  },
  {
   "cell_type": "markdown",
   "id": "eb02a029-58e6-4eb1-a307-b781ccdb234f",
   "metadata": {},
   "source": [
    "# After removing outliers there are 196 few null values has to be filled "
   ]
  },
  {
   "cell_type": "code",
   "execution_count": 439,
   "id": "91788ba9-8bc1-412d-b828-3fc246c30c97",
   "metadata": {},
   "outputs": [
    {
     "data": {
      "text/plain": [
       "longitude               0\n",
       "latitude                0\n",
       "housing_median_age      0\n",
       "total_rooms             0\n",
       "total_bedrooms        196\n",
       "population              0\n",
       "households              0\n",
       "median_income           0\n",
       "median_house_value      0\n",
       "ocean_proximity         0\n",
       "dtype: int64"
      ]
     },
     "execution_count": 439,
     "metadata": {},
     "output_type": "execute_result"
    }
   ],
   "source": [
    "df2.isnull().sum()"
   ]
  },
  {
   "cell_type": "code",
   "execution_count": 448,
   "id": "f05fb718-798c-4e31-a176-07d40cd29a0b",
   "metadata": {},
   "outputs": [
    {
     "data": {
      "text/plain": [
       "total_bedrooms\n",
       "280.0     55\n",
       "331.0     51\n",
       "345.0     50\n",
       "343.0     49\n",
       "393.0     49\n",
       "          ..\n",
       "1609.0     1\n",
       "1591.0     1\n",
       "2506.0     1\n",
       "2238.0     1\n",
       "1052.0     1\n",
       "Name: count, Length: 1923, dtype: int64"
      ]
     },
     "execution_count": 448,
     "metadata": {},
     "output_type": "execute_result"
    }
   ],
   "source": [
    "df['total_bedrooms'].value_counts()"
   ]
  },
  {
   "cell_type": "code",
   "execution_count": 449,
   "id": "4ccb6fc8-bd17-4e10-b7ff-47095a3758cb",
   "metadata": {},
   "outputs": [],
   "source": [
    "pd.set_option('display.max_rows', None)\n",
    "pd.set_option('display.max_columns', None) "
   ]
  },
  {
   "cell_type": "markdown",
   "id": "73c8fda2-e66c-4f19-aceb-217634aa21dd",
   "metadata": {},
   "source": [
    "## We will fill the total_bedroom column by using fillna function and the method in it is 'ffill'(frontfill)"
   ]
  },
  {
   "cell_type": "code",
   "execution_count": 454,
   "id": "daacff00-67e8-405f-b4ea-7852169db1cb",
   "metadata": {},
   "outputs": [
    {
     "name": "stderr",
     "output_type": "stream",
     "text": [
      "C:\\Users\\mufas\\AppData\\Local\\Temp\\ipykernel_16388\\564710732.py:1: FutureWarning: Series.fillna with 'method' is deprecated and will raise in a future version. Use obj.ffill() or obj.bfill() instead.\n",
      "  df2['total_bedrooms'] = df2['total_bedrooms'].fillna(method= 'ffill')\n",
      "C:\\Users\\mufas\\AppData\\Local\\Temp\\ipykernel_16388\\564710732.py:1: SettingWithCopyWarning: \n",
      "A value is trying to be set on a copy of a slice from a DataFrame.\n",
      "Try using .loc[row_indexer,col_indexer] = value instead\n",
      "\n",
      "See the caveats in the documentation: https://pandas.pydata.org/pandas-docs/stable/user_guide/indexing.html#returning-a-view-versus-a-copy\n",
      "  df2['total_bedrooms'] = df2['total_bedrooms'].fillna(method= 'ffill')\n"
     ]
    }
   ],
   "source": [
    "df2['total_bedrooms'] = df2['total_bedrooms'].fillna(method= 'ffill')"
   ]
  },
  {
   "cell_type": "code",
   "execution_count": 455,
   "id": "80a2bd29-fc41-4df4-ad5f-28e4ce48367a",
   "metadata": {},
   "outputs": [
    {
     "data": {
      "text/plain": [
       "longitude             0\n",
       "latitude              0\n",
       "housing_median_age    0\n",
       "total_rooms           0\n",
       "total_bedrooms        0\n",
       "population            0\n",
       "households            0\n",
       "median_income         0\n",
       "median_house_value    0\n",
       "ocean_proximity       0\n",
       "dtype: int64"
      ]
     },
     "execution_count": 455,
     "metadata": {},
     "output_type": "execute_result"
    }
   ],
   "source": [
    "df2.isnull().sum()"
   ]
  },
  {
   "cell_type": "code",
   "execution_count": null,
   "id": "aba6bf77-fc31-4439-82ae-fb018526ab3a",
   "metadata": {},
   "outputs": [],
   "source": []
  },
  {
   "cell_type": "code",
   "execution_count": null,
   "id": "875df57d-b249-4f91-acfc-ca4c79519a11",
   "metadata": {},
   "outputs": [],
   "source": []
  }
 ],
 "metadata": {
  "kernelspec": {
   "display_name": "Python 3 (ipykernel)",
   "language": "python",
   "name": "python3"
  },
  "language_info": {
   "codemirror_mode": {
    "name": "ipython",
    "version": 3
   },
   "file_extension": ".py",
   "mimetype": "text/x-python",
   "name": "python",
   "nbconvert_exporter": "python",
   "pygments_lexer": "ipython3",
   "version": "3.12.0"
  }
 },
 "nbformat": 4,
 "nbformat_minor": 5
}
